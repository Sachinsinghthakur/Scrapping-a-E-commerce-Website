{
 "cells": [
  {
   "cell_type": "code",
   "execution_count": null,
   "id": "e0ad0038",
   "metadata": {},
   "outputs": [],
   "source": [
    "import requests\n",
    "import json"
   ]
  },
  {
   "cell_type": "code",
   "execution_count": null,
   "id": "f861a5fe",
   "metadata": {},
   "outputs": [],
   "source": [
    "params = { 'isAggregate': 'false'}\n",
    "headers = {\n",
    "    \"accept\":'application/json,text/plain,*/*',\n",
    "    \"user-agent\": \"Mozilla/5.0 (Windows NT 10.0; Win64; x64) AppleWebKit/537.36 (KHTML, like Gecko) Chrome/108.0.0.0 Safari/537.36\"\n",
    "}\n",
    "url=\"https://www.e.leclerc/api/rest/live-api/categories-tree-by-code/NAVIGATION_sport-loisirs?pageType=null&maxDepth=3\"\n",
    "data = requests.get(url,headers=headers,params=params)"
   ]
  },
  {
   "cell_type": "code",
   "execution_count": null,
   "id": "6f7323fa",
   "metadata": {},
   "outputs": [],
   "source": [
    "raw_data = data.json()"
   ]
  },
  {
   "cell_type": "code",
   "execution_count": null,
   "id": "7eb58533",
   "metadata": {
    "collapsed": true
   },
   "outputs": [],
   "source": [
    "raw_data"
   ]
  },
  {
   "cell_type": "code",
   "execution_count": null,
   "id": "62be617f",
   "metadata": {
    "collapsed": true
   },
   "outputs": [],
   "source": [
    "categories=[]\n",
    "for data in raw_data[\"children\"]:\n",
    "    categories.append(data[\"code\"][11:])\n",
    "categories"
   ]
  },
  {
   "cell_type": "code",
   "execution_count": null,
   "id": "9202d1fd",
   "metadata": {},
   "outputs": [],
   "source": [
    "def generate_url(categories):\n",
    "    urls=[]\n",
    "    base_url = \"https://www.e.leclerc/cat/\"\n",
    "    for category in categories:\n",
    "        urls.append(base_url+category)\n",
    "    return urls"
   ]
  },
  {
   "cell_type": "code",
   "execution_count": null,
   "id": "63be88f1",
   "metadata": {
    "collapsed": true
   },
   "outputs": [],
   "source": [
    "generate_url(categories)"
   ]
  },
  {
   "cell_type": "code",
   "execution_count": null,
   "id": "af05a371",
   "metadata": {},
   "outputs": [],
   "source": [
    "data=raw_data[\"children\"][0]\n",
    "dct={}"
   ]
  },
  {
   "cell_type": "code",
   "execution_count": null,
   "id": "0f26c2ea",
   "metadata": {},
   "outputs": [],
   "source": [
    "dct[\"category\"]=data[\"code\"][11:].replace(\"-\",\" \")"
   ]
  },
  {
   "cell_type": "code",
   "execution_count": null,
   "id": "c4aa8784",
   "metadata": {},
   "outputs": [],
   "source": [
    "num_of_products=data[\"nbProducts\"]\n",
    "num_of_page=ceil(num_of_products/30)\n",
    "dct[\"number_of_page\"] = num_of_page"
   ]
  },
  {
   "cell_type": "code",
   "execution_count": null,
   "id": "ce40ff39",
   "metadata": {
    "collapsed": true
   },
   "outputs": [],
   "source": [
    "for data in raw_data[\"children\"]:\n",
    "    print(data[\"label\"],end=\" \")\n",
    "    if 'children' in data:\n",
    "        for child in data[\"children\"]:\n",
    "            print(f\"child :{child['label']}\",end=\" \")\n",
    "            print(\"\\n\")\n",
    "    else:\n",
    "        print(\": no children\")"
   ]
  }
 ],
 "metadata": {
  "kernelspec": {
   "display_name": "Python 3 (ipykernel)",
   "language": "python",
   "name": "python3"
  },
  "language_info": {
   "codemirror_mode": {
    "name": "ipython",
    "version": 3
   },
   "file_extension": ".py",
   "mimetype": "text/x-python",
   "name": "python",
   "nbconvert_exporter": "python",
   "pygments_lexer": "ipython3",
   "version": "3.9.13"
  }
 },
 "nbformat": 4,
 "nbformat_minor": 5
}
