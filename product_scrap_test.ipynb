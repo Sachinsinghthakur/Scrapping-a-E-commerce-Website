{
 "cells": [
  {
   "cell_type": "code",
   "execution_count": 27,
   "id": "f36590df",
   "metadata": {},
   "outputs": [],
   "source": [
    "import json\n",
    "import requests\n",
    "import math"
   ]
  },
  {
   "cell_type": "code",
   "execution_count": 28,
   "id": "6394de5f",
   "metadata": {},
   "outputs": [],
   "source": [
    "headers = {\n",
    "    \"accept\": \"application/json\",\n",
    "    \"user-agent\": \"Mozilla/5.0 (Windows NT 10.0; Win64; x64) AppleWebKit/537.36 (KHTML, like Gecko) Chrome/108.0.0.0 Safari/537.36\"\n",
    "}\n",
    "\n",
    "url =\"https://www.e.leclerc/api/rest/live-api/product-search?language=fr-FR&size=30&sorts=%5B%5D&page=3&categories=%7B%22code%22:%5B%22NAVIGATION_accessoires-de-yoga%22%5D%7D\""
   ]
  },
  {
   "cell_type": "code",
   "execution_count": 29,
   "id": "c75ff8f8",
   "metadata": {},
   "outputs": [],
   "source": [
    "data = requests.get(url,headers=headers)\n",
    "raw_data= data.json()"
   ]
  },
  {
   "cell_type": "code",
   "execution_count": 30,
   "id": "0c481432",
   "metadata": {},
   "outputs": [],
   "source": [
    "item=raw_data[\"items\"][0]"
   ]
  },
  {
   "cell_type": "code",
   "execution_count": 31,
   "id": "317c2b0d",
   "metadata": {
    "collapsed": true
   },
   "outputs": [
    {
     "data": {
      "text/plain": [
       "{'lastUpdateDate': '2022-12-18T08:41:37.968Z',\n",
       " 'id': '6267c3635087a9600f74c563',\n",
       " 'label': \"SHOP-STORY - ACUPRESSURE MAT : Tapis d'Acupression Matelassé\",\n",
       " 'variants': [{'id': '6267c50a5087a9600f7cb489',\n",
       "   'sku': '3683080514970',\n",
       "   'label': \"SHOP-STORY - ACUPRESSURE MAT : Tapis d'Acupression Matelassé\",\n",
       "   'slug': 'shop-story-acupressure-mat-tapis-d-acupression-matelasse',\n",
       "   'attributes': [{'code': 'largeur_cm',\n",
       "     'label': 'Largeur (cm)',\n",
       "     'type': 'number',\n",
       "     'value': 40},\n",
       "    {'code': 'couleur',\n",
       "     'label': 'Couleur',\n",
       "     'type': 'select',\n",
       "     'value': {'code': 'blanc_et_gris-02',\n",
       "      'label': 'Blanc et gris',\n",
       "      'position': 48}},\n",
       "    {'code': 'image2',\n",
       "     'label': 'Image 2',\n",
       "     'type': 'image',\n",
       "     'value': {'type': 'image',\n",
       "      'url': 'https://e-leclerc.scene7.com/is/image/gtinternet/3683080514970_2'}},\n",
       "    {'code': 'ean', 'label': 'EAN', 'type': 'text', 'value': '3683080514970'},\n",
       "    {'code': 'image1',\n",
       "     'label': 'Image 1',\n",
       "     'type': 'image',\n",
       "     'value': {'type': 'image',\n",
       "      'url': 'https://e-leclerc.scene7.com/is/image/gtinternet/3683080514970_1'}},\n",
       "    {'code': 'image3',\n",
       "     'label': 'Image 3',\n",
       "     'type': 'image',\n",
       "     'value': {'type': 'image',\n",
       "      'url': 'https://e-leclerc.scene7.com/is/image/gtinternet/3683080514970_3'}},\n",
       "    {'code': 'image4',\n",
       "     'label': 'Image 4',\n",
       "     'type': 'image',\n",
       "     'value': {'type': 'image',\n",
       "      'url': 'https://e-leclerc.scene7.com/is/image/gtinternet/3683080514970_4'}},\n",
       "    {'code': 'image5',\n",
       "     'label': 'Image 5',\n",
       "     'type': 'image',\n",
       "     'value': {'type': 'image',\n",
       "      'url': 'https://e-leclerc.scene7.com/is/image/gtinternet/3683080514970_5'}},\n",
       "    {'code': 'image6',\n",
       "     'label': 'Image 6',\n",
       "     'type': 'image',\n",
       "     'value': {'type': 'image',\n",
       "      'url': 'https://e-leclerc.scene7.com/is/image/gtinternet/3683080514970_6'}},\n",
       "    {'code': 'image7',\n",
       "     'label': 'Image 7',\n",
       "     'type': 'image',\n",
       "     'value': {'type': 'image',\n",
       "      'url': 'https://e-leclerc.scene7.com/is/image/gtinternet/3683080514970_7'}}],\n",
       "   'offers': [{'id': '626903115087a9600f4a8f31',\n",
       "     'externalId': '4892703',\n",
       "     'sourceCode': 'miraklMCM',\n",
       "     'locale': 'FR',\n",
       "     'description': \"LIVRAISON 48H00 - GARANTIE 1AN - VENDEUR FRANÇAIS - Avez-vous déjà essayé l'acupression comme méthode de relaxation ? C'est un moyen efficace de lutter contre le stress et l'anxiété. Le tapis Acupressure Mat est basé sur cette tradition thérapeutique chinoise grâce à ses multiples points de pression.\",\n",
       "     'basePrice': {'threshold': 1,\n",
       "      'price': {'price': 3699},\n",
       "      'minShippingPrice': {'price': 0},\n",
       "      'minShippingType': 'STANDARD',\n",
       "      'totalPrice': {'price': 3699},\n",
       "      'leadTimeToShip': 1},\n",
       "     'currency': {'code': 'EUR', 'symbol': '€'},\n",
       "     'startDate': '2022-06-01T10:07:26.798Z',\n",
       "     'shop': {'id': '2488', 'label': 'Shop Story'},\n",
       "     'stock': 1000,\n",
       "     'minOrderQuantity': 1,\n",
       "     'allowQuotation': False,\n",
       "     'isDefault': True,\n",
       "     'additionalFields': [{'code': 'state-code',\n",
       "       'type': 'number',\n",
       "       'value': 11},\n",
       "      {'label': 'Statut de disponibilité',\n",
       "       'code': 'availability-status',\n",
       "       'type': 'text',\n",
       "       'value': 'in-stock'}]},\n",
       "    {'id': '631c41c4313e659fa5b78fac',\n",
       "     'externalId': '6529686',\n",
       "     'sourceCode': 'miraklMCM',\n",
       "     'locale': 'FR',\n",
       "     'basePrice': {'threshold': 1,\n",
       "      'price': {'price': 4491},\n",
       "      'minShippingPrice': {'price': 0},\n",
       "      'minShippingType': 'STANDARD',\n",
       "      'totalPrice': {'price': 4491}},\n",
       "     'currency': {'code': 'EUR', 'symbol': '€'},\n",
       "     'startDate': '2022-12-18T07:54:02.701Z',\n",
       "     'shop': {'id': '2133', 'label': 'ZOOMICI'},\n",
       "     'stock': 100,\n",
       "     'minOrderQuantity': 1,\n",
       "     'allowQuotation': False,\n",
       "     'isDefault': False,\n",
       "     'additionalFields': [{'code': 'state-code',\n",
       "       'type': 'number',\n",
       "       'value': 11},\n",
       "      {'label': 'Statut de disponibilité',\n",
       "       'code': 'availability-status',\n",
       "       'type': 'text',\n",
       "       'value': 'in-stock'}]}]}],\n",
       " 'categories': [[{'id': '5ede28914f7102b59e1299e1',\n",
       "    'slug': 'root',\n",
       "    'label': 'root',\n",
       "    'code': 'root',\n",
       "    'attributes': [{'code': 'page-type',\n",
       "      'type': 'text',\n",
       "      'label': 'Page - Type de page',\n",
       "      'value': {'text': 'NAVIGATION'}},\n",
       "     {'code': 'page-deleted',\n",
       "      'type': 'boolean',\n",
       "      'label': 'Page - Est supprimé',\n",
       "      'value': {'boolean': False}},\n",
       "     {'code': 'page-hidden',\n",
       "      'type': 'boolean',\n",
       "      'label': 'Page - Masquer',\n",
       "      'value': {'boolean': False}},\n",
       "     {'code': 'page-level',\n",
       "      'type': 'number',\n",
       "      'label': 'Page - Niveau',\n",
       "      'value': {'number': 0}},\n",
       "     {'code': 'page-scamark',\n",
       "      'type': 'boolean',\n",
       "      'label': 'Page - Scamark',\n",
       "      'value': {'boolean': False}}]},\n",
       "   {'id': '60d5f5305d2ba76d4cbd91ba',\n",
       "    'slug': 'root.sport-loisirs',\n",
       "    'label': 'Sport & Loisirs',\n",
       "    'code': 'NAVIGATION_sport-loisirs',\n",
       "    'attributes': [{'code': 'page-type',\n",
       "      'type': 'text',\n",
       "      'label': 'Page - Type de page',\n",
       "      'value': {'text': 'NAVIGATION'}},\n",
       "     {'code': 'page-deleted',\n",
       "      'type': 'boolean',\n",
       "      'label': 'Page - Est supprimé',\n",
       "      'value': {'boolean': False}},\n",
       "     {'code': 'page-hidden',\n",
       "      'type': 'boolean',\n",
       "      'label': 'Page - Masquer',\n",
       "      'value': {'boolean': False}},\n",
       "     {'code': 'page-level',\n",
       "      'type': 'number',\n",
       "      'label': 'Page - Niveau',\n",
       "      'value': {'number': 1}},\n",
       "     {'code': 'page-scamark',\n",
       "      'type': 'boolean',\n",
       "      'label': 'Page - Scamark',\n",
       "      'value': {'boolean': False}}]},\n",
       "   {'id': '610aab17d06023f2a44ce4f3',\n",
       "    'slug': 'root.sport-loisirs.accessoires-de-yoga',\n",
       "    'label': 'Accessoires de Yoga',\n",
       "    'code': 'NAVIGATION_accessoires-de-yoga',\n",
       "    'attributes': [{'code': 'page-type',\n",
       "      'type': 'text',\n",
       "      'label': 'Page - Type de page',\n",
       "      'value': {'text': 'NAVIGATION'}},\n",
       "     {'code': 'page-deleted',\n",
       "      'type': 'boolean',\n",
       "      'label': 'Page - Est supprimé',\n",
       "      'value': {'boolean': False}},\n",
       "     {'code': 'page-hidden',\n",
       "      'type': 'boolean',\n",
       "      'label': 'Page - Masquer',\n",
       "      'value': {'boolean': False}},\n",
       "     {'code': 'page-level',\n",
       "      'type': 'number',\n",
       "      'label': 'Page - Niveau',\n",
       "      'value': {'number': 2}},\n",
       "     {'code': 'page-scamark',\n",
       "      'type': 'boolean',\n",
       "      'label': 'Page - Scamark',\n",
       "      'value': {'boolean': False}},\n",
       "     {'code': 'page-shortTitle',\n",
       "      'type': 'text',\n",
       "      'label': 'Page - Titre court',\n",
       "      'value': {'text': 'Yoga'}}]}]],\n",
       " 'sku': '3683080514970',\n",
       " 'family': {'code': 'tapis_de_yoga', 'label': 'Tapis de Yoga'},\n",
       " 'families': [{'code': 'root', 'label': 'root'},\n",
       "  {'code': 'equipements_sportifs', 'label': 'Equipements sportifs'},\n",
       "  {'code': 'entrainement_et_fitness', 'label': 'Entrainement et fitness'},\n",
       "  {'code': 'pilates_et_yoga', 'label': 'Pilates et yoga'},\n",
       "  {'label': 'Tapis de Yoga', 'code': 'tapis_de_yoga'}],\n",
       " 'creationDate': '2022-04-26T10:03:15.523Z',\n",
       " 'publicationDate': '2022-12-18T09:24:45.805Z',\n",
       " 'slug': 'shop-story-acupressure-mat-tapis-d-acupression-matelasse',\n",
       " 'attributeGroups': [{'code': 'main',\n",
       "   'label': 'Main',\n",
       "   'attributes': [{'code': 'longueur_cm',\n",
       "     'label': 'Longueur (cm)',\n",
       "     'type': 'number',\n",
       "     'value': 65},\n",
       "    {'code': 'marque',\n",
       "     'label': 'Marque',\n",
       "     'type': 'select',\n",
       "     'value': {'code': 'shop_story',\n",
       "      'label': 'Shop-Story',\n",
       "      'position': 13163}},\n",
       "    {'code': 'garantie_texte',\n",
       "     'label': 'Garantie légale de conformité',\n",
       "     'type': 'text',\n",
       "     'value': \"24 mois pour les produits neufs, 12 mois pour les produits d'occasion\"},\n",
       "    {'code': 'nombre_de_colis',\n",
       "     'label': 'Nombre de colis',\n",
       "     'type': 'number',\n",
       "     'value': 1},\n",
       "    {'code': 'poids_emballe',\n",
       "     'label': 'Poids produit emballé',\n",
       "     'type': 'number',\n",
       "     'value': 900},\n",
       "    {'code': 'unite_poids_emballe',\n",
       "     'label': 'Unités de poids produit emballé',\n",
       "     'type': 'select',\n",
       "     'value': {'code': 'g', 'label': 'g', 'position': 0}}]}]}"
      ]
     },
     "execution_count": 31,
     "metadata": {},
     "output_type": "execute_result"
    }
   ],
   "source": [
    "item"
   ]
  },
  {
   "cell_type": "code",
   "execution_count": 32,
   "id": "cd67c425",
   "metadata": {
    "scrolled": true
   },
   "outputs": [
    {
     "data": {
      "text/plain": [
       "{'threshold': 1,\n",
       " 'price': {'price': 3699},\n",
       " 'minShippingPrice': {'price': 0},\n",
       " 'minShippingType': 'STANDARD',\n",
       " 'totalPrice': {'price': 3699},\n",
       " 'leadTimeToShip': 1}"
      ]
     },
     "execution_count": 32,
     "metadata": {},
     "output_type": "execute_result"
    }
   ],
   "source": [
    "item[\"variants\"][0][\"offers\"][0][\"basePrice\"]"
   ]
  },
  {
   "cell_type": "code",
   "execution_count": 33,
   "id": "ba999efc",
   "metadata": {},
   "outputs": [
    {
     "data": {
      "text/plain": [
       "'Shop-Story'"
      ]
     },
     "execution_count": 33,
     "metadata": {},
     "output_type": "execute_result"
    }
   ],
   "source": [
    "for attr in item[\"attributeGroups\"][0][\"attributes\"]:\n",
    "    if attr[\"code\"]==\"marque\":\n",
    "        brand=attr[\"value\"][\"label\"]\n",
    "brand"
   ]
  },
  {
   "cell_type": "code",
   "execution_count": 34,
   "id": "269f0716",
   "metadata": {},
   "outputs": [
    {
     "data": {
      "text/plain": [
       "'Equipements sportifs'"
      ]
     },
     "execution_count": 34,
     "metadata": {},
     "output_type": "execute_result"
    }
   ],
   "source": [
    "product_category=item[\"families\"][1][\"label\"]\n",
    "product_category"
   ]
  },
  {
   "cell_type": "code",
   "execution_count": 35,
   "id": "f463842b",
   "metadata": {},
   "outputs": [],
   "source": [
    "# for item in raw_data[\"items\"]:\n",
    "#     print(item[\"label\"])"
   ]
  },
  {
   "cell_type": "code",
   "execution_count": 36,
   "id": "d356bd5c",
   "metadata": {
    "scrolled": true
   },
   "outputs": [
    {
     "data": {
      "text/plain": [
       "\"SHOP-STORY - ACUPRESSURE MAT : Tapis d'Acupression Matelassé\""
      ]
     },
     "execution_count": 36,
     "metadata": {},
     "output_type": "execute_result"
    }
   ],
   "source": [
    "name=item[\"label\"]\n",
    "name"
   ]
  },
  {
   "cell_type": "code",
   "execution_count": 37,
   "id": "596d3e14",
   "metadata": {},
   "outputs": [
    {
     "data": {
      "text/plain": [
       "'6267c3635087a9600f74c563'"
      ]
     },
     "execution_count": 37,
     "metadata": {},
     "output_type": "execute_result"
    }
   ],
   "source": [
    "sku=item[\"id\"]\n",
    "sku"
   ]
  },
  {
   "cell_type": "code",
   "execution_count": 38,
   "id": "57c6b194",
   "metadata": {},
   "outputs": [
    {
     "data": {
      "text/plain": [
       "['https://e-leclerc.scene7.com/is/image/gtinternet/3683080514970_2',\n",
       " 'https://e-leclerc.scene7.com/is/image/gtinternet/3683080514970_1',\n",
       " 'https://e-leclerc.scene7.com/is/image/gtinternet/3683080514970_3',\n",
       " 'https://e-leclerc.scene7.com/is/image/gtinternet/3683080514970_4',\n",
       " 'https://e-leclerc.scene7.com/is/image/gtinternet/3683080514970_5',\n",
       " 'https://e-leclerc.scene7.com/is/image/gtinternet/3683080514970_6',\n",
       " 'https://e-leclerc.scene7.com/is/image/gtinternet/3683080514970_7']"
      ]
     },
     "execution_count": 38,
     "metadata": {},
     "output_type": "execute_result"
    }
   ],
   "source": [
    "img_urls=[]\n",
    "for i in item[\"variants\"][0][\"attributes\"]:\n",
    "    if i[\"type\"]==\"image\":\n",
    "        img_urls.append(i[\"value\"][\"url\"])\n",
    "img_urls        "
   ]
  },
  {
   "cell_type": "code",
   "execution_count": 39,
   "id": "021e1f5b",
   "metadata": {},
   "outputs": [
    {
     "data": {
      "text/plain": [
       "'3683080514970'"
      ]
     },
     "execution_count": 39,
     "metadata": {},
     "output_type": "execute_result"
    }
   ],
   "source": [
    "ean=item[\"sku\"]\n",
    "ean"
   ]
  },
  {
   "cell_type": "code",
   "execution_count": 40,
   "id": "b214d284",
   "metadata": {},
   "outputs": [
    {
     "data": {
      "text/plain": [
       "3699"
      ]
     },
     "execution_count": 40,
     "metadata": {},
     "output_type": "execute_result"
    }
   ],
   "source": [
    "total_price=item[\"variants\"][0][\"offers\"][0][\"basePrice\"][\"totalPrice\"][\"price\"]\n",
    "total_price"
   ]
  },
  {
   "cell_type": "code",
   "execution_count": 41,
   "id": "9f467812",
   "metadata": {},
   "outputs": [
    {
     "data": {
      "text/plain": [
       "3699"
      ]
     },
     "execution_count": 41,
     "metadata": {},
     "output_type": "execute_result"
    }
   ],
   "source": [
    "try:\n",
    "    discount_price=item[\"variants\"][0][\"offers\"][0][\"basePrice\"][\"discountPrice\"][\"price\"][\"price\"]\n",
    "except KeyError:\n",
    "    discount_price=total_price\n",
    "discount_price"
   ]
  },
  {
   "cell_type": "code",
   "execution_count": 42,
   "id": "d68ba24f",
   "metadata": {},
   "outputs": [
    {
     "data": {
      "text/plain": [
       "True"
      ]
     },
     "execution_count": 42,
     "metadata": {},
     "output_type": "execute_result"
    }
   ],
   "source": [
    "if item[\"variants\"][0][\"offers\"][0][\"additionalFields\"][1][\"value\"]=='in-stock':\n",
    "    stock=True\n",
    "else:\n",
    "    stock=False\n",
    "stock"
   ]
  }
 ],
 "metadata": {
  "kernelspec": {
   "display_name": "Python 3 (ipykernel)",
   "language": "python",
   "name": "python3"
  },
  "language_info": {
   "codemirror_mode": {
    "name": "ipython",
    "version": 3
   },
   "file_extension": ".py",
   "mimetype": "text/x-python",
   "name": "python",
   "nbconvert_exporter": "python",
   "pygments_lexer": "ipython3",
   "version": "3.8.15"
  }
 },
 "nbformat": 4,
 "nbformat_minor": 5
}
